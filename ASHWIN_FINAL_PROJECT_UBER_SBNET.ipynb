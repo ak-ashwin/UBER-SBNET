{
  "nbformat": 4,
  "nbformat_minor": 0,
  "metadata": {
    "colab": {
      "name": "Copy of ASHWIN_FINAL_PROJECT_UBER_SBNET_1.ipynb",
      "version": "0.3.2",
      "provenance": [],
      "collapsed_sections": []
    },
    "kernelspec": {
      "name": "python3",
      "display_name": "Python 3"
    },
    "accelerator": "GPU"
  },
  "cells": [
    {
      "cell_type": "markdown",
      "metadata": {
        "id": "amkDfYUGA-SO",
        "colab_type": "text"
      },
      "source": [
        "## PROJECT OVERVIEW\n",
        "To detect any object that moves quickly and create a bounding box around it using **Sparse Blocks Network (SBNet)**. This project is currently used by **Uber**.\n",
        "\n",
        "## OUTPUT EXPECTED\n",
        "\n",
        "![GIF file](http://github.com/ak-ashwin/shared_files/blob/master/Output.gif?raw=true)\n",
        "\n",
        "### Still Frame\n",
        "\n",
        "![Image file](https://github.com/ak-ashwin/shared_files/blob/master/frame_16.jpg?raw=true)\n",
        "\n",
        "\n",
        "\n",
        "\n",
        "\n",
        "\n",
        "#### Research Paper Links: \n",
        "1. [SBNet:Uber Blog](https://eng.uber.com/sbnet/)\n",
        "2. [Research Paper](https://arxiv.org/abs/1801.02108)\n",
        "3. [GitHub - uber/sbnet: Sparse Blocks Networks](https://github.com/uber/sbnet)\n",
        "4. [SBNET - Youtube Link](https://www.youtube.com/watch?v=h0PdITBUjks)\n",
        "\n",
        "#### Authors:\n",
        "1. Mengye Ren\n",
        "2. Andrei Pokrovsky\n",
        "3. Bin Yang\n",
        "4. Raquel Urtasun\n",
        "\n",
        "\n",
        "\n",
        "\n",
        "## About SBNET\n",
        "\n",
        "SBNET is a methodoloogy created by Uber to enable safe self driving cars. It basically uses Lidar functions and detects any moving objects quickly and creates a bounding box around in it and uses it to determine the location from the car and if the object is moving. It is used to improve response time and do this o GPU very quickly and accurately. \n",
        "\n",
        "\n",
        "SBNet performs this in 2 Steps:\n",
        "1. Applying Max-pooling operation on the attention mask using overlapping blocks from the input tensor and converting it to a list of indices passed to a block-gather operation. \n",
        "\n",
        "\n",
        "![Step 1](http://eng.uber.com/wp-content/uploads/2018/01/image4-2-e1516053233377.png)\n",
        "\n",
        "\n",
        "2. The gather operation then takes the tiles and stacks them together along the batch dimension into a new tensor.  Dense convolutions are then used and a customized scatter operation then performs an inverse operation writing the results on top of the original dense input tensor. Fig, below, shows our proposed sparse convolution mechanism using a sparse. \n",
        "\n",
        "\n",
        "![Step 2](http://eng.uber.com/wp-content/uploads/2018/01/image1-1.png)\n",
        "\n",
        "\n",
        "\n",
        "### Uber's Github Code:\n",
        "\n",
        "``` python\n",
        "#load library\n",
        "sbnet_module = tf.load_op_library('path_to_library/libsbnet.so')\n",
        "\n",
        "\n",
        "#reduce_mask op converts a dense mask to a list of active block indices.\n",
        "\n",
        "#In the following snippet the mask is expected to be a tensor of dimensions [N,H,W,1]:\n",
        "\n",
        "#Step 1\n",
        "    indices = sbnet_module.reduce_mask(\n",
        "        mask, tf.constant([BCH, BCW], dtype=tf.int32),\n",
        "        bsize=[BSZH, BSZW],\n",
        "        boffset=[BOFFSH, BOFFSW],\n",
        "        bstride=[BSTRH, BSTRW],\n",
        "        tol=0.5, # pooling threshold to consider a block as active\n",
        "        avgpool=True) # max pooling by default\n",
        "\n",
        "\n",
        "```\n",
        "\n",
        "``` python\n",
        "#step 2\n",
        " blockStack = sbnet_module.sparse_gather(\n",
        "        x,\n",
        "        indices.bin_counts,\n",
        "        indices.active_block_indices,\n",
        "        bsize=[BSZH, BSZW], # block size\n",
        "        boffset=[BOFFSH, BOFFSW], # block offset\n",
        "        bstride=[BSTRH, BSTRW], # block stride\n",
        "        transpose=do_transpose)\n",
        "```\n",
        "\n",
        "\n",
        "\n",
        "``` python\n",
        "#step 3\n",
        "  y = sbnet_module.sparse_scatter(\n",
        "        blockStack,\n",
        "        indices.bin_counts,\n",
        "        indices.active_block_indices,\n",
        "        x, # base tensor to copy to output and overwrite on top of\n",
        "        bsize=[BSZH, BSZW],\n",
        "        boffset=[BOFFSH, BOFFSW],\n",
        "        bstride=[BSTRH, BSTRW],\n",
        "        add=do_add,\n",
        "        atomic=False, # use atomic or regular adds\n",
        "        transpose=do_transpose)\n",
        "```\n",
        "\n",
        "\n",
        "\n",
        "## Let's Begin:\n",
        "\n",
        "#### Creating the dataset:\n",
        "\n",
        "``` python\n",
        "from IPython.display import Image\n",
        "\n",
        "import cv2\n",
        "\n",
        "print(cv2.__version__)\n",
        "\n",
        "import numpy as np\n",
        "\n",
        "cap = cv2.VideoCapture('/Users/sbnet/files/traffic.mp4')\n",
        "\n",
        "count = 0\n",
        "#  VIDEO PROPERTIES\n",
        "print(\"Frame Width : \")\n",
        "print(cap.get(3))  # Frame Width\n",
        "print(\"Frame Height :\")\n",
        "print(cap.get(4))  # Frame Height\n",
        "fps = (cap.get(cv2.CAP_PROP_FPS))\n",
        "print(\"FPS :\", fps)\n",
        "\n",
        "fullmask = cv2.createBackgroundSubtractorMOG2()\n",
        "while (cap.isOpened):\n",
        "    ret, frame = cap.read()\n",
        "    fgmask = fullmask.apply(frame)\n",
        "    if fgmask is None:\n",
        "        break\n",
        "    (im2, contours, hierarchy) = cv2.findContours(fgmask.copy(), cv2.RETR_EXTERNAL, cv2.CHAIN_APPROX_SIMPLE)\n",
        "    for c in contours:\n",
        "        if cv2.contourArea(c) < 650:\n",
        "            continue\n",
        "\n",
        "        filename = \"/Users/sbnet/frames/frame_%d.jpg\" % count\n",
        "        # resize image\n",
        "        resized_frame = cv2.resize(frame, (128,128), interpolation=cv2.INTER_AREA)\n",
        "        cv2.imwrite(filename, resized_frame)\n",
        "\n",
        "        filename = \"/Users/sbnet/fgmask/fgmask_%d.jpg\" % count\n",
        "        # resize image\n",
        "        resized_fgmask = cv2.resize(fgmask, (128,128), interpolation=cv2.INTER_AREA)\n",
        "        cv2.imwrite(filename, resized_fgmask)\n",
        "        count = count + 1\n",
        "\n",
        "    k = cv2.waitKey(30) & 0xff\n",
        "    if k == 27:\n",
        "        break\n",
        "cap.release()\n",
        "cv2.destroyAllWindows()\n",
        "\n",
        "```\n",
        "\n",
        "\n",
        "##### Output images - the frame and the mask files\n",
        "\n",
        "##### 1. With Vehicles\n",
        "\n",
        "##### Frame :\n",
        "![Frame](https://github.com/ak-ashwin/shared_files/blob/master/frame_15.jpg?raw=true)\n",
        "\n",
        "\n",
        "##### Mask :\n",
        "![Mask](https://github.com/ak-ashwin/shared_files/blob/master/fgmask_15.jpg?raw=true)\n",
        "\n",
        "\n",
        "\n",
        "\n",
        "##### 2. Without Vehicles\n",
        "\n",
        "##### Frame :\n",
        "![Frame](https://github.com/ak-ashwin/shared_files/blob/master/no_vehicles_frame_1.jpg?raw=true)\n",
        "\n",
        "##### Mask :\n",
        "![Mask](https://github.com/ak-ashwin/shared_files/blob/master/no_vehicles_mask_1.jpg?raw=true)\n",
        "\n",
        "\n",
        "\n",
        "\n",
        "##### Now convert images into numpy arrays\n",
        "\n",
        "\n",
        "``` python\n",
        "import numpy as np\n",
        "import cv2\n",
        "# if you dont have opencv, use skimage or pil\n",
        "import pickle\n",
        "import bz2\n",
        "import os\n",
        "\n",
        "\n",
        "def save(name, to_save):\n",
        "    sfile = bz2.BZ2File(name, 'w')\n",
        "    pickle.dump(to_save, sfile)\n",
        "    sfile.close()\n",
        "\n",
        "\n",
        "def load(name):\n",
        "    sfile = bz2.BZ2File(name, 'rb')\n",
        "    data = pickle.load(sfile)\n",
        "    sfile.close()\n",
        "    return data\n",
        "\n",
        "\n",
        "def process(DIR, color=1):\n",
        "    '''\n",
        "    DIR is the directory which contains the images\n",
        "    color = 1 reads in RGB,  color = 0 reads in greyscale\n",
        "    '''\n",
        "    STORE_DIR = \"numpy_array/\"\n",
        "    image_list = os.listdir(os.path.join(ROOT_DIR, DIR))\n",
        "    if '.DS_Store' in image_list:\n",
        "        image_list.remove('.DS_Store')\n",
        "    image_list.sort()\n",
        "    for i in range(len(image_list)):\n",
        "        if i == 0:\n",
        "            img = cv2.imread(os.path.join(ROOT_DIR, DIR, image_list[i]), color)\n",
        "            img_shape = img.shape\n",
        "            # torch expects tensors in shape N,C,H,W unlike keras,(N,H,W,C)\n",
        "            data = np.empty((0, img_shape[2], img_shape[0], img_shape[1]))\n",
        "            img = np.swapaxes(img, 0, 2)\n",
        "            img = np.swapaxes(img, 1, 2)\n",
        "            data = np.concatenate((data, img[np.newaxis, :, :, :]), axis=0)\n",
        "        else:\n",
        "            img = cv2.imread(os.path.join(ROOT_DIR, DIR, image_list[i]), color)\n",
        "            img = np.swapaxes(img, 0, 2)\n",
        "            img = np.swapaxes(img, 1, 2)\n",
        "            data = np.concatenate((data, img[np.newaxis, :, :, :]), axis=0)\n",
        "    save(STORE_DIR + DIR + \".bz2\", data)\n",
        "    return data\n",
        "\n",
        "\n",
        "# test = process(\"no_vehicles_frames\")\n",
        "# print(test.shape)\n",
        "\n",
        "ROOT_DIR = \"/Users/sbnet/images_sbnet_convert_images_to_numpy/images_sbnet\"\n",
        "\n",
        "# data_list = os.listdir(ROOT_DIR)\n",
        "if '.DS_Store' in data_list:\n",
        "    data_list.remove('.DS_Store')\n",
        "print(data_list)\n",
        "\n",
        "for i in data_list:\n",
        "    process(i)\n",
        "\n",
        "\n",
        "```\n",
        "\n",
        "\n",
        "\n",
        "##### We get an output of both mask and frames in bz2 format\n",
        "\n",
        "1. no_vehicles_frames.bz2\n",
        "2. no_vehicles_mask.bz2\n",
        "3. vehicles_fgmask.bz2\n",
        "4. vehicles_frames.bz2\n"
      ]
    },
    {
      "cell_type": "code",
      "metadata": {
        "id": "Nk3YQyykNMZS",
        "colab_type": "code",
        "outputId": "db8e0f13-ea89-4e26-a093-5d958638c9cb",
        "colab": {
          "base_uri": "https://localhost:8080/",
          "height": 35
        }
      },
      "source": [
        "# !rm -rf *\n",
        "#  ls"
      ],
      "execution_count": 0,
      "outputs": [
        {
          "output_type": "stream",
          "text": [
            "images_sbnet_200.zip\r\n"
          ],
          "name": "stdout"
        }
      ]
    },
    {
      "cell_type": "code",
      "metadata": {
        "id": "A3mqyQUBkklG",
        "colab_type": "code",
        "outputId": "7a75a4b6-1b83-4d15-898e-401c28d3f16d",
        "colab": {
          "base_uri": "https://localhost:8080/",
          "height": 163
        }
      },
      "source": [
        "!wget --header=\"Host: doc-0g-a0-docs.googleusercontent.com\" --header=\"User-Agent: Mozilla/5.0 (Macintosh; Intel Mac OS X 10_13_5) AppleWebKit/537.36 (KHTML, like Gecko) Chrome/67.0.3396.87 Safari/537.36\" --header=\"Accept: text/html,application/xhtml+xml,application/xml;q=0.9,image/webp,image/apng,*/*;q=0.8\" --header=\"Accept-Language: en-GB,en-US;q=0.9,en;q=0.8\" --header=\"Cookie: AUTH_7bi5q9b851v5qgp5s7m582qmpk6mlqmd=17241037231885297069|1529841600000|bt72qfi949p1f991ht4a6g6vhf849ub4\" --header=\"Connection: keep-alive\" \"https://doc-0g-a0-docs.googleusercontent.com/docs/securesc/hv524mehckc7hlhuknf5ls6rniouvmtr/krli8bjbr4g89jj8ji3vasetnqdqcgih/1529848800000/17241037231885297069/17241037231885297069/1F1PdC2e7A1waiZA9BR5ywKjIKzH5AFU6?h=09910226885230189022&e=download\" -O \"images_sbnet_200.zip\" -c"
      ],
      "execution_count": 0,
      "outputs": [
        {
          "output_type": "stream",
          "text": [
            "--2018-06-24 19:08:11--  https://doc-0g-a0-docs.googleusercontent.com/docs/securesc/hv524mehckc7hlhuknf5ls6rniouvmtr/krli8bjbr4g89jj8ji3vasetnqdqcgih/1529848800000/17241037231885297069/17241037231885297069/1F1PdC2e7A1waiZA9BR5ywKjIKzH5AFU6?h=09910226885230189022&e=download\r\n",
            "Resolving doc-0g-a0-docs.googleusercontent.com (doc-0g-a0-docs.googleusercontent.com)... 66.102.1.132, 2a00:1450:400c:c06::84\r\n",
            "Connecting to doc-0g-a0-docs.googleusercontent.com (doc-0g-a0-docs.googleusercontent.com)|66.102.1.132|:443... connected.\n",
            "HTTP request sent, awaiting response... 416 Requested range not satisfiable\n",
            "\n",
            "    The file is already fully retrieved; nothing to do.\n",
            "\n"
          ],
          "name": "stdout"
        }
      ]
    },
    {
      "cell_type": "code",
      "metadata": {
        "id": "m1oolXGOkpLG",
        "colab_type": "code",
        "outputId": "20e51c12-ed5f-4e05-efd9-b506bff3617f",
        "colab": {
          "base_uri": "https://localhost:8080/",
          "height": 53
        }
      },
      "source": [
        "!unzip images_sbnet_200.zip\n"
      ],
      "execution_count": 0,
      "outputs": [
        {
          "output_type": "stream",
          "text": [
            "Archive:  images_sbnet_200.zip\n",
            "replace images_sbnet_200/no_vehicles_frames.bz2? [y]es, [n]o, [A]ll, [N]one, [r]ename: ^C\n"
          ],
          "name": "stdout"
        }
      ]
    },
    {
      "cell_type": "code",
      "metadata": {
        "id": "1eHF5DfoMlvm",
        "colab_type": "code",
        "colab": {}
      },
      "source": [
        ""
      ],
      "execution_count": 0,
      "outputs": []
    },
    {
      "cell_type": "code",
      "metadata": {
        "id": "fLS83RhP0B8p",
        "colab_type": "code",
        "outputId": "1a3cae78-a8a8-4264-bc2c-9044676a8e3b",
        "colab": {
          "base_uri": "https://localhost:8080/",
          "height": 70
        }
      },
      "source": [
        "import numpy as np\n",
        "\n",
        "#pytorch\n",
        "!pip3 install -q http://download.pytorch.org/whl/cu90/torch-0.4.0-cp36-cp36m-linux_x86_64.whl \n",
        "!pip3 install -q torchvision\n",
        "import torch\n",
        "print(\"pytorch version: \", torch.__version__)"
      ],
      "execution_count": 0,
      "outputs": [
        {
          "output_type": "stream",
          "text": [
            "tcmalloc: large alloc 1073750016 bytes == 0x5d9b8000 @  0x7f8f0aee91c4 0x46d6a4 0x5fcbcc 0x4c494d 0x54f3c4 0x553aaf 0x54e4c8 0x54f4f6 0x553aaf 0x54efc1 0x54f24d 0x553aaf 0x54efc1 0x54f24d 0x553aaf 0x54efc1 0x54f24d 0x551ee0 0x54e4c8 0x54f4f6 0x553aaf 0x54efc1 0x54f24d 0x551ee0 0x54efc1 0x54f24d 0x551ee0 0x54e4c8 0x54f4f6 0x553aaf 0x54e4c8\r\n",
            "pytorch version:  0.4.0\n"
          ],
          "name": "stdout"
        }
      ]
    },
    {
      "cell_type": "code",
      "metadata": {
        "id": "wMHG3j0z0B_B",
        "colab_type": "code",
        "colab": {}
      },
      "source": [
        "import torch \n",
        "import torchvision\n",
        "import torchvision.transforms as transforms\n",
        "import torch.nn as nn\n",
        "import numpy as np \n",
        "import torch.optim as optim\n",
        "import torch.utils.data\n",
        "from torch.autograd import Variable\n",
        "from torch.utils.data import DataLoader \n",
        "import torch.nn.functional as F\n",
        "\n",
        "# import keras\n",
        "# from keras.datasets import mnist"
      ],
      "execution_count": 0,
      "outputs": []
    },
    {
      "cell_type": "code",
      "metadata": {
        "id": "A9hTVk1BuhPT",
        "colab_type": "code",
        "outputId": "ea2ecd95-050b-4c14-9b06-1e41962a81e4",
        "colab": {
          "base_uri": "https://localhost:8080/",
          "height": 358
        }
      },
      "source": [
        "!pip3 install ipdb"
      ],
      "execution_count": 0,
      "outputs": [
        {
          "output_type": "stream",
          "text": [
            "Collecting ipdb\n",
            "  Downloading https://files.pythonhosted.org/packages/80/fe/4564de08f174f3846364b3add8426d14cebee228f741c27e702b2877e85b/ipdb-0.11.tar.gz\n",
            "Requirement already satisfied: setuptools in /usr/local/lib/python3.6/dist-packages (from ipdb) (39.1.0)\n",
            "Requirement already satisfied: ipython>=5.0.0 in /usr/local/lib/python3.6/dist-packages (from ipdb) (5.5.0)\n",
            "Requirement already satisfied: simplegeneric>0.8 in /usr/local/lib/python3.6/dist-packages (from ipython>=5.0.0->ipdb) (0.8.1)\n",
            "Requirement already satisfied: traitlets>=4.2 in /usr/local/lib/python3.6/dist-packages (from ipython>=5.0.0->ipdb) (4.3.2)\n",
            "Requirement already satisfied: pexpect; sys_platform != \"win32\" in /usr/local/lib/python3.6/dist-packages (from ipython>=5.0.0->ipdb) (4.6.0)\n",
            "Requirement already satisfied: decorator in /usr/local/lib/python3.6/dist-packages (from ipython>=5.0.0->ipdb) (4.3.0)\n",
            "Requirement already satisfied: pygments in /usr/local/lib/python3.6/dist-packages (from ipython>=5.0.0->ipdb) (2.1.3)\n",
            "Requirement already satisfied: prompt-toolkit<2.0.0,>=1.0.4 in /usr/local/lib/python3.6/dist-packages (from ipython>=5.0.0->ipdb) (1.0.15)\n",
            "Requirement already satisfied: pickleshare in /usr/local/lib/python3.6/dist-packages (from ipython>=5.0.0->ipdb) (0.7.4)\n",
            "Requirement already satisfied: ipython-genutils in /usr/local/lib/python3.6/dist-packages (from traitlets>=4.2->ipython>=5.0.0->ipdb) (0.2.0)\n",
            "Requirement already satisfied: six in /usr/local/lib/python3.6/dist-packages (from traitlets>=4.2->ipython>=5.0.0->ipdb) (1.11.0)\n",
            "Requirement already satisfied: ptyprocess>=0.5 in /usr/local/lib/python3.6/dist-packages (from pexpect; sys_platform != \"win32\"->ipython>=5.0.0->ipdb) (0.5.2)\n",
            "Requirement already satisfied: wcwidth in /usr/local/lib/python3.6/dist-packages (from prompt-toolkit<2.0.0,>=1.0.4->ipython>=5.0.0->ipdb) (0.1.7)\n",
            "Building wheels for collected packages: ipdb\n",
            "  Running setup.py bdist_wheel for ipdb ... \u001b[?25l-\b \b\\\b \b|\b \b/\b \b-\b \b\\\b \bdone\n",
            "\u001b[?25h  Stored in directory: /content/.cache/pip/wheels/a8/0e/e2/ffc7bedd430bfd12e9dba3c4dd88906bc42962face85bc4df7\n",
            "Successfully built ipdb\n",
            "Installing collected packages: ipdb\n",
            "Successfully installed ipdb-0.11\n"
          ],
          "name": "stdout"
        }
      ]
    },
    {
      "cell_type": "code",
      "metadata": {
        "id": "xUsH4J89odNd",
        "colab_type": "code",
        "outputId": "0a8f9d10-0a7c-41fc-b721-ec722561e684",
        "colab": {
          "base_uri": "https://localhost:8080/",
          "height": 33
        }
      },
      "source": [
        "ls"
      ],
      "execution_count": 0,
      "outputs": [
        {
          "output_type": "stream",
          "text": [
            "\u001b[0m\u001b[01;34mdatalab\u001b[0m/  \u001b[01;34mimages_sbnet_200\u001b[0m/  images_sbnet_200.zip\r\n"
          ],
          "name": "stdout"
        }
      ]
    },
    {
      "cell_type": "code",
      "metadata": {
        "id": "gmEbmxMeYw7w",
        "colab_type": "code",
        "colab": {}
      },
      "source": [
        "import pickle\n",
        "import bz2\n",
        "import os"
      ],
      "execution_count": 0,
      "outputs": []
    },
    {
      "cell_type": "code",
      "metadata": {
        "id": "_SjFSkub0Iyc",
        "colab_type": "code",
        "colab": {}
      },
      "source": [
        "device = torch.device('cuda:0' if torch.cuda.is_available() else 'cpu')\n"
      ],
      "execution_count": 0,
      "outputs": []
    },
    {
      "cell_type": "markdown",
      "metadata": {
        "id": "WG-1hu6PA0hW",
        "colab_type": "text"
      },
      "source": [
        ""
      ]
    },
    {
      "cell_type": "markdown",
      "metadata": {
        "id": "AJcW-43iA0nh",
        "colab_type": "text"
      },
      "source": [
        ""
      ]
    },
    {
      "cell_type": "code",
      "metadata": {
        "id": "USn4RNdOWZ6i",
        "colab_type": "code",
        "outputId": "6cd12412-b13e-4c89-b4ab-664cec70812f",
        "colab": {
          "base_uri": "https://localhost:8080/",
          "height": 33
        }
      },
      "source": [
        "cd images_sbnet_200"
      ],
      "execution_count": 0,
      "outputs": [
        {
          "output_type": "stream",
          "text": [
            "/content/images_sbnet_200\n"
          ],
          "name": "stdout"
        }
      ]
    },
    {
      "cell_type": "code",
      "metadata": {
        "id": "m0k4JwHgl7aS",
        "colab_type": "code",
        "outputId": "abf29afc-5549-4b0e-cd29-62ab82e3420d",
        "colab": {
          "base_uri": "https://localhost:8080/",
          "height": 50
        }
      },
      "source": [
        "ls"
      ],
      "execution_count": 0,
      "outputs": [
        {
          "output_type": "stream",
          "text": [
            "no_vehicles_frames.bz2  vehicles_fgmask.bz2\r\n",
            "no_vehicles_mask.bz2    vehicles_frames.bz2\r\n"
          ],
          "name": "stdout"
        }
      ]
    },
    {
      "cell_type": "code",
      "metadata": {
        "id": "GO5NyxPUWaEF",
        "colab_type": "code",
        "outputId": "d434c5ec-faf4-4266-c0f2-926ab889de9a",
        "colab": {
          "base_uri": "https://localhost:8080/",
          "height": 33
        }
      },
      "source": [
        "def load(name):\n",
        "\tsfile = bz2.BZ2File(name, 'rb')\n",
        "\tdata = pickle.load(sfile)\n",
        "\tsfile.close()\n",
        "\treturn data\n",
        "\n",
        "data1 = load(\"no_vehicles_frames.bz2\")\n",
        "data1_mask = load(\"no_vehicles_mask.bz2\")\n",
        "data2 = load(\"vehicles_frames.bz2\")\n",
        "data2_mask = load(\"vehicles_fgmask.bz2\")\n",
        "\n",
        "\n",
        "\n",
        "data1 = torch.Tensor(data1).to(device)\n",
        "data1_mask = torch.Tensor(data1_mask).to(device)\n",
        "data2 = torch.Tensor(data2).to(device)\n",
        "data2_mask = torch.Tensor(data2_mask).to(device)\n",
        "print(data1.size())\n"
      ],
      "execution_count": 0,
      "outputs": [
        {
          "output_type": "stream",
          "text": [
            "torch.Size([200, 3, 128, 128])\n"
          ],
          "name": "stdout"
        }
      ]
    },
    {
      "cell_type": "code",
      "metadata": {
        "id": "I22asgDwY5hL",
        "colab_type": "code",
        "colab": {}
      },
      "source": [
        "x_train = torch.cat((data1, data2), 0).to(device)\n",
        "# no. of images = 200\n",
        "y_train = torch.cat((torch.zeros(200,1), torch.ones(200,1)), 0).to(device)\n",
        "mask = torch.cat((data1_mask, data2_mask), 0).to(device)\n",
        "\n",
        "x_train = x_train/255\n",
        "Mask = (mask > (1/255)).float()\n",
        "Mask = Mask[:,0,:,:]\n",
        "Mask.require_grad = False\n"
      ],
      "execution_count": 0,
      "outputs": []
    },
    {
      "cell_type": "code",
      "metadata": {
        "id": "yjRkdbGocGAm",
        "colab_type": "code",
        "colab": {}
      },
      "source": [
        "# mask=Mask.clone()\n"
      ],
      "execution_count": 0,
      "outputs": []
    },
    {
      "cell_type": "code",
      "metadata": {
        "id": "DVPq2Bs-nn67",
        "colab_type": "code",
        "colab": {}
      },
      "source": [
        "# mask[Mask==0]=1\n",
        "# mask[Mask==1]=0"
      ],
      "execution_count": 0,
      "outputs": []
    },
    {
      "cell_type": "code",
      "metadata": {
        "id": "ljXO87tzm5zq",
        "colab_type": "code",
        "outputId": "b040b984-5868-4502-f17a-f537b3177f4f",
        "colab": {
          "base_uri": "https://localhost:8080/",
          "height": 35
        }
      },
      "source": [
        "# mask.shape"
      ],
      "execution_count": 0,
      "outputs": [
        {
          "output_type": "execute_result",
          "data": {
            "text/plain": [
              "torch.Size([400, 128, 128])"
            ]
          },
          "metadata": {
            "tags": []
          },
          "execution_count": 16
        }
      ]
    },
    {
      "cell_type": "code",
      "metadata": {
        "id": "3ooXpIUERact",
        "colab_type": "code",
        "colab": {}
      },
      "source": [
        "# Added code below."
      ],
      "execution_count": 0,
      "outputs": []
    },
    {
      "cell_type": "code",
      "metadata": {
        "id": "gLNZQQq2QmI9",
        "colab_type": "code",
        "colab": {}
      },
      "source": [
        "# number of images = 200\n",
        "labels = torch.cat((torch.zeros(200,), torch.ones(200,)), 0).long().to(device)\n"
      ],
      "execution_count": 0,
      "outputs": []
    },
    {
      "cell_type": "code",
      "metadata": {
        "id": "OmkzWH-CQmS2",
        "colab_type": "code",
        "outputId": "fd8de0a6-6d8f-4309-d6c6-e571d8b8184a",
        "colab": {
          "base_uri": "https://localhost:8080/",
          "height": 33
        }
      },
      "source": [
        "labels.shape"
      ],
      "execution_count": 0,
      "outputs": [
        {
          "output_type": "execute_result",
          "data": {
            "text/plain": [
              "torch.Size([400])"
            ]
          },
          "metadata": {
            "tags": []
          },
          "execution_count": 14
        }
      ]
    },
    {
      "cell_type": "code",
      "metadata": {
        "id": "6rVIwX8EQmgt",
        "colab_type": "code",
        "colab": {}
      },
      "source": [
        ""
      ],
      "execution_count": 0,
      "outputs": []
    },
    {
      "cell_type": "code",
      "metadata": {
        "id": "wJ3YxW1XO3B7",
        "colab_type": "code",
        "outputId": "bb9ed376-a625-418b-f0ea-74a9ba2fb604",
        "colab": {
          "base_uri": "https://localhost:8080/",
          "height": 286
        }
      },
      "source": [
        "#viusalize !\n",
        "\n",
        "import matplotlib.pyplot as plt\n",
        "%matplotlib inline \n",
        "\n",
        "plt.imshow(x_train[0, 0, :, :].cpu().detach().numpy())"
      ],
      "execution_count": 0,
      "outputs": [
        {
          "output_type": "execute_result",
          "data": {
            "text/plain": [
              "<matplotlib.image.AxesImage at 0x7f3eb33fc470>"
            ]
          },
          "metadata": {
            "tags": []
          },
          "execution_count": 20
        },
        {
          "output_type": "display_data",
          "data": {
            "image/png": "[encoded data removed]",
            "text/plain": [
              "<matplotlib.figure.Figure at 0x7f3f4551eb38>"
            ]
          },
          "metadata": {
            "tags": []
          }
        }
      ]
    },
    {
      "cell_type": "code",
      "metadata": {
        "id": "KtHqfzFwPwaf",
        "colab_type": "code",
        "collapsed": true,
        "outputId": "68762fed-ccf7-49f3-94ca-2817041288fc",
        "colab": {
          "base_uri": "https://localhost:8080/",
          "height": 899
        }
      },
      "source": [
        "mask.cpu().detach().numpy()"
      ],
      "execution_count": 0,
      "outputs": [
        {
          "output_type": "execute_result",
          "data": {
            "text/plain": [
              "array([[[0., 0., 0., ..., 1., 0., 0.],\n",
              "        [0., 0., 0., ..., 0., 0., 1.],\n",
              "        [0., 0., 1., ..., 1., 0., 1.],\n",
              "        ...,\n",
              "        [1., 0., 1., ..., 1., 1., 1.],\n",
              "        [0., 1., 0., ..., 1., 1., 1.],\n",
              "        [1., 1., 0., ..., 1., 1., 1.]],\n",
              "\n",
              "       [[0., 0., 0., ..., 1., 0., 0.],\n",
              "        [0., 0., 0., ..., 0., 0., 1.],\n",
              "        [0., 0., 1., ..., 1., 0., 1.],\n",
              "        ...,\n",
              "        [1., 0., 1., ..., 1., 1., 1.],\n",
              "        [0., 1., 0., ..., 1., 1., 1.],\n",
              "        [1., 1., 0., ..., 1., 1., 1.]],\n",
              "\n",
              "       [[0., 0., 0., ..., 1., 0., 0.],\n",
              "        [0., 0., 0., ..., 0., 0., 1.],\n",
              "        [0., 0., 1., ..., 1., 0., 1.],\n",
              "        ...,\n",
              "        [1., 0., 1., ..., 1., 1., 1.],\n",
              "        [0., 1., 0., ..., 1., 1., 1.],\n",
              "        [1., 1., 0., ..., 1., 1., 1.]],\n",
              "\n",
              "       ...,\n",
              "\n",
              "       [[0., 0., 0., ..., 0., 1., 1.],\n",
              "        [0., 0., 0., ..., 1., 0., 0.],\n",
              "        [0., 0., 0., ..., 1., 0., 0.],\n",
              "        ...,\n",
              "        [1., 1., 1., ..., 0., 0., 0.],\n",
              "        [1., 1., 1., ..., 0., 0., 0.],\n",
              "        [1., 1., 1., ..., 0., 0., 0.]],\n",
              "\n",
              "       [[0., 0., 0., ..., 0., 1., 1.],\n",
              "        [0., 0., 0., ..., 1., 0., 0.],\n",
              "        [0., 0., 0., ..., 1., 0., 0.],\n",
              "        ...,\n",
              "        [1., 1., 1., ..., 0., 0., 0.],\n",
              "        [1., 1., 1., ..., 0., 0., 0.],\n",
              "        [1., 1., 1., ..., 0., 0., 0.]],\n",
              "\n",
              "       [[0., 0., 0., ..., 0., 1., 1.],\n",
              "        [0., 0., 0., ..., 1., 0., 0.],\n",
              "        [0., 0., 0., ..., 1., 0., 0.],\n",
              "        ...,\n",
              "        [1., 1., 1., ..., 0., 0., 0.],\n",
              "        [1., 1., 1., ..., 0., 0., 0.],\n",
              "        [1., 1., 1., ..., 0., 0., 0.]]], dtype=float32)"
            ]
          },
          "metadata": {
            "tags": []
          },
          "execution_count": 21
        }
      ]
    },
    {
      "cell_type": "code",
      "metadata": {
        "id": "6d5FbD7UP-gD",
        "colab_type": "code",
        "outputId": "fa49bda9-1ef5-4c58-c22c-198c74e1ba6b",
        "colab": {
          "base_uri": "https://localhost:8080/",
          "height": 286
        }
      },
      "source": [
        "plt.imshow(mask[5].cpu().detach().numpy())"
      ],
      "execution_count": 0,
      "outputs": [
        {
          "output_type": "execute_result",
          "data": {
            "text/plain": [
              "<matplotlib.image.AxesImage at 0x7f3eb0b0f518>"
            ]
          },
          "metadata": {
            "tags": []
          },
          "execution_count": 22
        },
        {
          "output_type": "display_data",
          "data": {
            "image/png": "[encoded data removed]",
            "text/plain": [
              "<matplotlib.figure.Figure at 0x7f3f12dad5c0>"
            ]
          },
          "metadata": {
            "tags": []
          }
        }
      ]
    },
    {
      "cell_type": "code",
      "metadata": {
        "id": "ekm4nfMsdtMA",
        "colab_type": "code",
        "outputId": "f12dac9f-a9d8-40e2-cbae-54ae743ec495",
        "colab": {
          "base_uri": "https://localhost:8080/",
          "height": 35
        }
      },
      "source": [
        "Mask.shape"
      ],
      "execution_count": 0,
      "outputs": [
        {
          "output_type": "execute_result",
          "data": {
            "text/plain": [
              "torch.Size([400, 128, 128])"
            ]
          },
          "metadata": {
            "tags": []
          },
          "execution_count": 23
        }
      ]
    },
    {
      "cell_type": "markdown",
      "metadata": {
        "id": "kRk9e-ccLt5K",
        "colab_type": "text"
      },
      "source": [
        "X_train.shape"
      ]
    },
    {
      "cell_type": "markdown",
      "metadata": {
        "id": "QSH4VLofN7Tf",
        "colab_type": "text"
      },
      "source": [
        ""
      ]
    },
    {
      "cell_type": "code",
      "metadata": {
        "id": "Om7iADHd0CDq",
        "colab_type": "code",
        "colab": {}
      },
      "source": [
        "num_epochs = 5\n",
        "num_classes = 2\n",
        "batch_size = 16\n",
        "learning_rate = 0.01\n",
        "#img_channel, img_height, img_width = x_train.shape[0], x_train.shape[1], x_train.shape[2]\n",
        "img_channel, img_height, img_width = x_train.shape[1], x_train.shape[2], x_train.shape[3]"
      ],
      "execution_count": 0,
      "outputs": []
    },
    {
      "cell_type": "code",
      "metadata": {
        "id": "_rUe61fGQKKy",
        "colab_type": "code",
        "outputId": "0d060585-8c5a-4c0b-faad-43a84881659d",
        "colab": {
          "base_uri": "https://localhost:8080/",
          "height": 33
        }
      },
      "source": [
        "print(img_channel, img_height, img_width)"
      ],
      "execution_count": 0,
      "outputs": [
        {
          "output_type": "stream",
          "text": [
            "3 128 128\n"
          ],
          "name": "stdout"
        }
      ]
    },
    {
      "cell_type": "code",
      "metadata": {
        "id": "h8vSNw2g0CGD",
        "colab_type": "code",
        "colab": {}
      },
      "source": [
        "def reduce_mask_pool2d(mask, ksize, kstride, thresh = 0.2, avg= True):\n",
        "\t'''\n",
        "\tReduce mask operation:Takes a binary mask as input and after performing \n",
        "\tavg pooling or max pooling selects active blocksand return indices of \n",
        "\tthe active blocks\n",
        "\t\n",
        "\tInputs:\n",
        "\t:param mask:\t\ttorch tensor\t#[N,H,W] binary mask, where N is batch diemension, W, H are width and height of mask\n",
        "\t:param kszie:\t\t[list, tuple]\t#[h,w] Size of kernel to perform pooling\n",
        "\t:param kstride:\t\t[list, tuple] \t#[h_stride,w_stride] Stride of Kernel\n",
        "\t:param thresh:\t\tint \t\t\t#applicable for avg pooling\n",
        "\t:param avg:\t\t\tbool \t\t\t#Avg pooling or max pooling \n",
        "\n",
        "\tRequire_grad = Fasle\n",
        "\n",
        "\tOutput:\n",
        "\t\tindicies of size [B, 3] where B is the number of active blocks \n",
        "\t\tand 3 corresponds to [N, y, x] where N is batch size, and (y,x) is the \n",
        "\t\tco-ordinates of the \"centre\" of the block.\n",
        "\t\tindicies is a torch tensor\n",
        "\tNote:\n",
        "\t\tpadding is done automatically\n",
        "\t'''\n",
        "\n",
        "\tassert torch.is_tensor(mask) == True, 'Expect mask to be a pytorch tensor'\n",
        "\tisize = list(mask.size())\n",
        "\tassert len(mask.size()) == 3 , 'Expect input rank = 3'\n",
        "\tassert type(ksize) in [list, tuple], 'Expect `ksize` to be list or tuple'\n",
        "\tassert type(kstride) in [list, tuple], 'Expect `kstride` to be list or tuple'\n",
        "\tassert len(kstride) == 2 and len(ksize) == 2, 'Expect length of kstride and ksize to be 2'\n",
        "\tassert type(thresh) in [int, float], 'Expect `thresh` to be int or float'\n",
        "\n",
        "\tmask = mask.unsqueeze(1)\n",
        "\n",
        "\tif avg:\n",
        "\t\ttemp = F.avg_pool2d(input = mask, kernel_size = ksize, stride = kstride, padding = 0).to(device).squeeze()\n",
        "\t\tindicesm = torch.where(temp > thresh, torch.ones_like(temp).to(device), torch.zeros_like(temp).to(device)).int()\n",
        "\t\tindices = (indicesm != 0).nonzero().to(device)\n",
        "\t\treturn indices\n",
        "\telse:\n",
        "\t\ttemp = F.max_pool2d(input = mask, kernel_size = ksize, stride = kstride, padding = 0).to(device).squeeze()\n",
        "\t\tindicesm = torch.where(temp > thresh, torch.ones_like(temp).to(device), torch.zeros_like(temp).to(device)).int()\n",
        "\t\tindices = (indicesm != 0).nonzero().to(device)\n",
        "\t\treturn indices"
      ],
      "execution_count": 0,
      "outputs": []
    },
    {
      "cell_type": "code",
      "metadata": {
        "id": "5NlUO5260zeN",
        "colab_type": "code",
        "colab": {}
      },
      "source": [
        "def pad_input(input, ksize, kstride):\n",
        "\t'''\n",
        "\tPads the input or mask according to the required kernel to perform sparse convolution\n",
        "\n",
        "\tInputs:\n",
        "\t:param input:\t\ttorch tensor\t#[N,H,W] binary mask or [N,C,H,W] input, where N is batch\n",
        "\t:param kszie:\t\t[list, tuple]\t#[h,w] Size of kernel to perform pooling\n",
        "\t:param kstride:\t\t[list, tuple] \t#[h_stride,w_stride] Stride of Kernel\n",
        "\n",
        "\tOutput: Zero padded torch tensor\n",
        "\t'''\n",
        "\tassert torch.is_tensor(input) == True, 'Expect input to be a pytorch tensor'\n",
        "\tisize = list(input.size())\n",
        "\tassert len(input.size()) == 3 or len(input.size()) == 4, 'Expect input rank = 3(mask) or 4(input)'\n",
        "\tassert type(ksize) in [list, tuple], 'Expect `ksize` to be list or tuple'\n",
        "\tassert type(kstride) in [list, tuple], 'Expect `kstride` to be list or tuple'\n",
        "\tassert len(kstride) == 2 and len(ksize) == 2, 'Expect length of kstride and ksize to be 2'\n",
        "\n",
        "\t#padding along width!\n",
        "\tpad_w = kstride[-1] - ((isize[-1]-ksize[-1])%kstride[-1])\n",
        "\tpad_w1 = pad_w2 = pad_w//2\n",
        "\tif pad_w%2 == 1:\n",
        "\t\tpad_w2 += 1\n",
        "\n",
        "\t#padding along height\n",
        "\tpad_h = kstride[-2] - ((isize[-2]-ksize[-2])%kstride[-2])\n",
        "\tpad_h1 = pad_h2 = pad_h//2\n",
        "\tif pad_h%2 == 1:\n",
        "\t\tpad_h2 += 1\n",
        "\n",
        "\tpad = (pad_w1, pad_w2, pad_h1, pad_h2)\n",
        "\treturn F.pad(input, pad, \"constant\", 0).to(device)"
      ],
      "execution_count": 0,
      "outputs": []
    },
    {
      "cell_type": "code",
      "metadata": {
        "id": "DjTdkZPD5eCP",
        "colab_type": "code",
        "colab": {}
      },
      "source": [
        "def gather2d(input, indices, ksize, kstride):\n",
        "\t'''\n",
        "\tSparse gather operation:\n",
        "\n",
        "\tTakes a torch tensor as input and gathers blocks on basis of indices generated \n",
        "\tfrom reduce_mask_pool2d. Essentialy a slicing and concatenation along the batch dimension\n",
        "\n",
        "\tParams:\n",
        "\t:param input:\t\ttorch tensor\t#[N,C,H,W] size tensor, where N is batch diemension, W, H are width and height of mask \n",
        "\t:param indices:\t\ttorch tensor \t#[B,3] where B is the number of active blocks and 3 corresponds to [N,y,x]\n",
        "\t:param kszie:\t\t[list, tuple]\t#[h,w] Size of kernel to perform pooling\n",
        "\t:param kstride:\t\t[list, tuple] \t#[h_stride,w_stride] Stride of Kernel\n",
        "\n",
        "\tOutput:\n",
        "\t\tReturns a [B,C,h,w] shape tensor which is the active blocks stacked in the \n",
        "\t\tbatch diemension\n",
        "\tgradient flow is fine: https://github.com/pytorch/pytorch/issues/822\n",
        "\t\n",
        "\tProblems? : How to remove the for loop and vectorize it?\n",
        "\tidea: flatten and multiply and reshape !\n",
        "\t'''\n",
        "\tassert torch.is_tensor(input) == True, 'Expect input to be a pytorch tensor'\n",
        "\tisize = list(input.size())\n",
        "\tassert len(input.size()) == 4, 'Expect input rank = 4 , [N,C,H,W]'\n",
        "\n",
        "\tassert torch.is_tensor(indices) == True, 'Expect indicies to be a pytorch tensor'\n",
        "\tasize = list(indices.size()) \n",
        "\n",
        "\tassert type(ksize) in [list, tuple], 'Expect `ksize` to be list or tuple'\n",
        "\tassert type(kstride) in [list, tuple], 'Expect `kstride` to be list or tuple'\n",
        "\tassert len(kstride) == 2 and len(ksize) == 2, 'Expect length of kstride and ksize to be 2'\n",
        "\n",
        "\t#gathered = torch.empty((asize[0], isize[1], ksize[0], ksize[1])).to(device)\n",
        "\tgathered = input[indices[0][0]:indices[0][0]+1, :, indices[0][1]*kstride[0]:indices[0][1]*kstride[0]+ksize[0], indices[0][2]*kstride[1]: indices[0][2]*kstride[1]+ksize[1]]\n",
        "\tfor B, h0, w0 in indices[1:]:\n",
        "\t\tgathered = torch.cat((gathered, input[B:B+1, :, h0*kstride[0]:h0*kstride[0]+ksize[0], w0*kstride[1]: w0*kstride[1]+ksize[1]]), 0)\n",
        "\treturn gathered\n",
        "\n"
      ],
      "execution_count": 0,
      "outputs": []
    },
    {
      "cell_type": "code",
      "metadata": {
        "id": "wc_G6EPnrQZv",
        "colab_type": "code",
        "colab": {}
      },
      "source": [
        "def gather2dd(input, indices, ksize, kstride):\n",
        "\t'''\n",
        "\tSparse gather operation:\n",
        "\n",
        "\tTakes a torch tensor as input and gathers blocks on basis of indices generated \n",
        "\tfrom reduce_mask_pool2d. Essentialy a slicing and concatenation along the batch dimension\n",
        "\n",
        "\tParams:\n",
        "\t:param input:\t\ttorch tensor\t#[N,C,H,W] size tensor, where N is batch diemension, W, H are width and height of mask \n",
        "\t:param indices:\t\ttorch tensor \t#[B,3] where B is the number of active blocks and 3 corresponds to [N,y,x]\n",
        "\t:param kszie:\t\t[list, tuple]\t#[h,w] Size of kernel to perform pooling\n",
        "\t:param kstride:\t\t[list, tuple] \t#[h_stride,w_stride] Stride of Kernel\n",
        "\n",
        "\tOutput:\n",
        "\t\tReturns a [B,C,h,w] shape tensor which is the active blocks stacked in the \n",
        "\t\tbatch diemension\n",
        "\tgradient flow is fine: https://github.com/pytorch/pytorch/issues/822\n",
        "\t\n",
        "\tProblems? : How to remove the for loop and vectorize it?\n",
        "\tidea: flatten and multiply and reshape !\n",
        "\t'''\n",
        "\tassert torch.is_tensor(input) == True, 'Expect input to be a pytorch tensor'\n",
        "\tisize = list(input.size())\n",
        "\tassert len(input.size()) == 3, 'Expect input rank = 4 , [N,C,H,W]'\n",
        "\n",
        "\tassert torch.is_tensor(indices) == True, 'Expect indicies to be a pytorch tensor'\n",
        "\tasize = list(indices.size()) \n",
        "\n",
        "\tassert type(ksize) in [list, tuple], 'Expect `ksize` to be list or tuple'\n",
        "\tassert type(kstride) in [list, tuple], 'Expect `kstride` to be list or tuple'\n",
        "\tassert len(kstride) == 2 and len(ksize) == 2, 'Expect length of kstride and ksize to be 2'\n",
        "\n",
        "\t#gathered = torch.empty((asize[0], isize[1], ksize[0], ksize[1])).to(device)\n",
        "\tgathered = input[indices[0][0]:indices[0][0]+1, indices[0][1]*kstride[0]:indices[0][1]*kstride[0]+ksize[0], indices[0][2]*kstride[1]: indices[0][2]*kstride[1]+ksize[1]]\n",
        "\tfor B, h0, w0 in indices[1:]:\n",
        "\t\tgathered = torch.cat((gathered, input[B:B+1, h0*kstride[0]:h0*kstride[0]+ksize[0], w0*kstride[1]: w0*kstride[1]+ksize[1]]), 0)\n",
        "\treturn gathered"
      ],
      "execution_count": 0,
      "outputs": []
    },
    {
      "cell_type": "code",
      "metadata": {
        "id": "0-NkaloR01jE",
        "colab_type": "code",
        "colab": {}
      },
      "source": [
        "def mask_pool2d(mask):\n",
        "\t'''\n",
        "\tmask downsample operation:Takes a binary mask as input and performs max\n",
        "\tpooling to reduce its size \n",
        "\t\n",
        "\tInputs:\n",
        "\t:param mask:\t\ttorch tensor\t#[N,H,W] binary mask, where N is batch diemension, W, H are width and height of mask\n",
        "\t\n",
        "\tOutputs: A binary torch tensor of half the input mask size\n",
        "\t'''\n",
        "\tassert torch.is_tensor(mask) == True, 'Expect mask to be a pytorch tensor'\n",
        "\tisize = list(mask.size())\n",
        "\tassert len(mask.size()) == 3 , 'Expect input rank = 3'\n",
        "\n",
        "\tmask = mask.unsqueeze(1)\n",
        "\ttemp = F.max_pool2d(input = mask, kernel_size = [2,2], stride = [2,2], padding = 0).to(device).squeeze().float()\n",
        "\ttemp.require_grad = False\n",
        "\treturn temp\n"
      ],
      "execution_count": 0,
      "outputs": []
    },
    {
      "cell_type": "code",
      "metadata": {
        "id": "wGbi1_qi5YOd",
        "colab_type": "code",
        "colab": {}
      },
      "source": [
        "def scatter2d(input, gathered, indices, ksize, kstride, add = True):\n",
        "\t'''\n",
        "\tSparse scatter operation:\n",
        "\n",
        "\tTakes a gathered torch tensor as input and scatters it back on the input on basis of\n",
        "\tindices generated from reduce_mask. Essentialy a slicing and addition/write operation\n",
        "\n",
        "\tParams:\n",
        "\t\t:param input:\t\ttorch tensor\t#[N,C,H,W] size tensor, where N is batch diemension, W, H are width and height of mask \n",
        "\t\t:param gathered:\ttorch tensor \t#[B,C,h1,w1] B,C are same as the input, h1 and w1 are deetermined on the type of convolutions used\n",
        "\t\t:param indices:\t\ttorch tensor \t#[B,3] where B is the number of active blocks and 3 corresponds to [N,y,x]\n",
        "\t\t:param kszie:\t\t[list, tuple]\t#[h,w] Size of kernel to perform pooling\n",
        "\t\t:param kstride:\t\t[list, tuple] \t#[h_stride,w_stride] Stride of Kernel\n",
        "\t\t:param add:\t\t\tbool \t\t\t#Decides weather to add the values or replace them while scattering\n",
        "\tOutput:\n",
        "\t\tA tensor of same shape as input, but it has been updatd with the scattered values\n",
        "\t'''\n",
        "\tassert torch.is_tensor(input) == True, 'Expect input to be a pytorch tensor'\n",
        "\tassert len(input.size()) == 4, 'Expect input rank = 4 , [N,C,H,W]'\n",
        "\n",
        "\tassert torch.is_tensor(indices) == True, 'Expect indicies to be a pytorch tensor'\n",
        "\n",
        "\tassert torch.is_tensor(gathered) == True, 'Expect gathered to be a pytorch tensor'\n",
        "\tgsize = list(gathered.size())\n",
        "\n",
        "\tassert type(ksize) in [list, tuple], 'Expect `ksize` to be list or tuple'\n",
        "\tassert type(kstride) in [list, tuple], 'Expect `kstride` to be list or tuple'\n",
        "\tassert len(kstride) == 2 and len(ksize) == 2, 'Expect length of kstride and ksize to be 2'\n",
        "\n",
        "\tcount_index = 0\n",
        "\tfor B, h0, w0 in indices:\n",
        "\t\tif add:\n",
        "\t\t\tinput[B, :, h0*kstride[0]:h0*kstride[0]+gsize[2], w0*kstride[1]: w0*kstride[1]+gsize[3]] += gathered[count_index]\n",
        "\t\telse:\n",
        "\t\t\tinput[B, :, h0*kstride[0]:h0*kstride[0]+gsize[2], w0*kstride[1]: w0*kstride[1]+gsize[3]] = gathered[count_index]\n",
        "\t\tcount_index += 1"
      ],
      "execution_count": 0,
      "outputs": []
    },
    {
      "cell_type": "code",
      "metadata": {
        "id": "1CefJdko04HE",
        "colab_type": "code",
        "colab": {}
      },
      "source": [
        "#I wrapped the functions gather and scatter in  nn.Module class to allow easier flow of gradients\n",
        "class gather2dc(nn.Module):\n",
        "\tdef __init__(self, ksize, kstride):\n",
        "\t\tsuper(gather2dc, self).__init__()\n",
        "\t\tself.ksize = ksize\n",
        "\t\tself.kstride = kstride\n",
        "\n",
        "\tdef forward(self, input, indices):\n",
        "\t\tgathered = input[indices[0][0]:indices[0][0]+1, :, indices[0][1]*self.kstride[0]:indices[0][1]*self.kstride[0]+self.ksize[0], indices[0][2]*self.kstride[1]: indices[0][2]*self.kstride[1]+self.ksize[1]]\n",
        "\t\tfor B, h0, w0 in indices[1:]:\n",
        "\t\t\tgathered = torch.cat((gathered, input[B:B+1, :, h0*self.kstride[0]:h0*self.kstride[0]+self.ksize[0], w0*self.kstride[1]: w0*self.kstride[1]+self.ksize[1]]), 0)\n",
        "\t\treturn gathered\n",
        "\n",
        "\n",
        "class scatter2dc(nn.Module):\n",
        "\tdef __init__(self, kstride):\n",
        "\t\tsuper(scatter2dc, self).__init__()\n",
        "\t\tself.kstride = kstride\n",
        "\n",
        "\tdef forward(self, input, gathered, indices):\n",
        "\t\tgsize = list(gathered.size())\n",
        "\t\t#back = torch.zeros_like(input)\n",
        "\t\tcount_index = 0\n",
        "\t\tfor B, h0, w0 in indices:\n",
        "\t\t\t\tinput[B, :, h0*self.kstride[0]:h0*self.kstride[0]+gsize[2], w0*self.kstride[1]: w0*self.kstride[1]+gsize[3]] = gathered[count_index]\n",
        "\t\t\t\tcount_index +=1\n",
        "\t\t#return torch.cat((input, back), 1)\n",
        "\t\treturn input"
      ],
      "execution_count": 0,
      "outputs": []
    },
    {
      "cell_type": "code",
      "metadata": {
        "id": "JA1bA6Nw07Cz",
        "colab_type": "code",
        "colab": {}
      },
      "source": [
        "class sparse_block(nn.Module):\n",
        "\tdef __init__(self, inp_ch, out_ch, ksize, kstride, block_layers = None, thresh = 0.2):\n",
        "\t\tsuper(sparse_block, self).__init__()\n",
        "\n",
        "\t\tassert type(block_layers) in [type(None), torch.nn.modules.container.Sequential], 'Expect block_layers as None or torch.nn.Sequential() object' \n",
        "\t\tassert type(ksize) in [list, tuple], 'Expect `ksize` to be list or tuple'\n",
        "\t\tassert type(kstride) in [list, tuple], 'Expect `kstride` to be list or tuple'\n",
        "\t\tassert len(kstride) == 2 and len(ksize) == 2, 'Expect length of kstride and ksize to be 2'\n",
        "\t\tassert type(inp_ch) in [int, float], 'inp_ch should be int or float'\n",
        "\t\tassert type(out_ch) in [int, float], 'out_ch should be int or float'\n",
        "\t\tself.ksize = ksize\n",
        "\t\tself.kstride = kstride\n",
        "\t\tself.thresh = thresh\n",
        "\t\tself.g = gather2dc(ksize, kstride)\n",
        "\t\tself.c = scatter2dc(kstride)\n",
        "\t\tself.channel_control =  nn.Sequential(\n",
        "\t\t\tnn.Conv2d(inp_ch, out_ch, 1, padding = 0),\n",
        "\t\t\tnn.ReLU(),\n",
        "            nn.BatchNorm2d(out_ch)).to(device)\n",
        "\n",
        "\t\tif block_layers == None:\n",
        "\t\t\tself.operation = nn.Sequential(\n",
        "\t\t\t\tnn.Conv2d(out_ch, 2*out_ch, 1, padding = 0),\n",
        "\t\t\t\tnn.ReLU(),\n",
        "\t\t\t\tnn.BatchNorm2d(2*out_ch),\n",
        "\t\t\t\tnn.Conv2d(2*out_ch, 2*out_ch, 3, padding = 1),\n",
        "\t\t\t\tnn.ReLU(),\n",
        "\t\t\t\tnn.BatchNorm2d(2*out_ch), #can be made as deep as required!\n",
        "\t\t\t\tnn.Conv2d(2*out_ch, out_ch, 1, padding = 0),\n",
        "\t\t\t\tnn.ReLU(),\n",
        "\t\t\t\tnn.BatchNorm2d(out_ch)\n",
        "\t\t\t\t).to(device)\n",
        "\t\telse:\n",
        "\t\t\tself.operation = block_layers.to(device)\n",
        "\n",
        "\tdef forward(self, x, mask):\n",
        "\t\tx = self.channel_control(x)\n",
        "\t\tmask = pad_input(mask, self.ksize, self.kstride)\n",
        "\t\tmask.require_grad = False\n",
        "\t\tx = pad_input(x, self.ksize, self.kstride)\n",
        "\t\tx.require_grad = True\n",
        "\n",
        "\t\tindices = reduce_mask_pool2d(mask, self.ksize, self.kstride, self.thresh, avg= True)\n",
        "\t\tgathered = self.g(x, indices)\n",
        "\t\t### Here the custom conv operations are done\n",
        "\t\tgathered = self.operation(gathered)\n",
        "\t\t#print(gathered.size())\n",
        "\t\tx = self.c(x, gathered, indices)\n",
        "\t\treturn x"
      ],
      "execution_count": 0,
      "outputs": []
    },
    {
      "cell_type": "code",
      "metadata": {
        "id": "s7FzWm-S0CIM",
        "colab_type": "code",
        "colab": {}
      },
      "source": [
        "class net(nn.Module):\n",
        "    def __init__(self, inp_ch, num_classes):\n",
        "        super(net, self).__init__()\n",
        "        self.sparse1 = sparse_block(inp_ch, 16, [5,5], [4,4], thresh = 0.05)\n",
        "        self.mp1 = nn.MaxPool2d(2)\n",
        "        self.sparse2 = sparse_block(16, 32, [5,5], [4,4], thresh = 0.05)\n",
        "        self.mp2 = nn.MaxPool2d(2)\n",
        "        self.fc = nn.Sequential(\n",
        "            nn.Linear(32*32*32, 100),\n",
        "            nn.ReLU(),\n",
        "            nn.Linear(100, num_classes-1),\n",
        "            #nn.Softmax(dim=1)\n",
        "            nn.Sigmoid()\n",
        "            )\n",
        "\n",
        "    def forward(self, x, mask1):\n",
        "        x = self.sparse1(x, mask1)\n",
        "        x = self.mp1(x)\n",
        "        mask2 = mask_pool2d(mask1)\n",
        "        x = self.sparse2(x, mask2)\n",
        "        #maps.append(x[0])\n",
        "        x = self.mp2(x)\n",
        "        #print(x.size()) #####################################\n",
        "        x = x.view(batch_size, -1)\n",
        "        x = self.fc(x)\n",
        "        return x"
      ],
      "execution_count": 0,
      "outputs": []
    },
    {
      "cell_type": "code",
      "metadata": {
        "id": "Hxk9s2eJ0CKt",
        "colab_type": "code",
        "colab": {}
      },
      "source": [
        "\n",
        "model = net(img_channel, num_classes).to(device)\n",
        "criterion = nn.BCELoss()\n",
        "optimizer = optim.Adam(model.parameters(), lr = 0.01)\n"
      ],
      "execution_count": 0,
      "outputs": []
    },
    {
      "cell_type": "code",
      "metadata": {
        "id": "coQPKW_P0CPA",
        "colab_type": "code",
        "colab": {}
      },
      "source": [
        "#train\n",
        "num_epochs = 5\n",
        "for epoch in range(1, num_epochs+1):\n",
        "    epoch_loss = 0\n",
        "    print(\"\\nEpoch = \", epoch)\n",
        "    z = 0\n",
        "    for i in range(len(x_train)//batch_size): # len(X_train) is 40 and batch size is 4\n",
        "        x = x_train[z:z+batch_size, :, :, :]\n",
        "        y = y_train[z:z+batch_size]\n",
        "        mask_new = Mask[z:z+batch_size, :, :]\n",
        "        z += batch_size\n",
        "        Label = labels[z:z+batch_size]\n",
        "\n",
        "        #Forward pass\n",
        "        output = model(x, mask_new)\n",
        "        #print(output, y)\n",
        "        loss = criterion(output, y)\n",
        "        \n",
        "        #Backward pass\n",
        "        optimizer.zero_grad()\n",
        "        loss.backward()\n",
        "        optimizer.step()\n",
        "        epoch_loss += loss.item()\n",
        "#         print(epoch_loss)\n",
        "        if (z%10 == 0):\n",
        "          #_, predicted = torch.max(output.data, 1)\n",
        "          #print(predicted)\n",
        "          #total = batch_size\n",
        "          #correct = (predicted == Label ).sum().item()\n",
        "          #print('\\rStep [{}/{}], Loss: {:.4f}'.format(i, 10, epoch_loss/i), end = ' ')\n",
        "          print('\\rStep [{}/{}], Loss: {:.4f}'.format(i, len(x_train)//batch_size, epoch_loss/i), end = ' ')\n",
        "            \n",
        "\n",
        "\n",
        "    #break\n",
        "#break\n",
        "                "
      ],
      "execution_count": 0,
      "outputs": []
    },
    {
      "cell_type": "markdown",
      "metadata": {
        "id": "p-tXWsfSBZUA",
        "colab_type": "text"
      },
      "source": [
        "\n",
        "### Conclusion:\n",
        "\n",
        "We finally managed to get loss at 15.45% after running it for 10 Epochs.\n",
        "\n",
        "\n",
        "##### Problems faced :\n",
        "\n",
        "1. Executing code on AWS\n",
        "The github link shared was not executing completely. \n",
        "We encountered many configuration issues and we mangaed to run the test file on AWS.\n",
        "Finally, using cuda we could we couldn't get it to run on AWS and Google Colab.\n",
        "\n",
        "We had got some help and we ended writing sbnet code in pytorch. \n",
        "\n",
        "\n",
        "We also wrote to the authors of this paper and Mengye Ren responded!\n",
        "\n",
        "\n",
        "\n",
        "Next Steps:\n",
        "1. To increase accuracy by increasing the number of epochs\n",
        "2. TO implement the entire code using CUDA\n",
        "3. Prediction of vehicles moving when you insert an image.\n",
        "\n",
        "\n",
        "\n",
        "Special Thanks:\n",
        "1. Pavithra\n",
        "2. Anand Mooga\n",
        "3. Mengye Ren (Author)\n",
        "\n"
      ]
    }
  ]
}